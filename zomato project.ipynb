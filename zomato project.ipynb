{
 "cells": [
  {
   "cell_type": "code",
   "execution_count": 32,
   "id": "1d8b40ae",
   "metadata": {},
   "outputs": [
    {
     "data": {
      "text/html": [
       "<div>\n",
       "<style scoped>\n",
       "    .dataframe tbody tr th:only-of-type {\n",
       "        vertical-align: middle;\n",
       "    }\n",
       "\n",
       "    .dataframe tbody tr th {\n",
       "        vertical-align: top;\n",
       "    }\n",
       "\n",
       "    .dataframe thead th {\n",
       "        text-align: right;\n",
       "    }\n",
       "</style>\n",
       "<table border=\"1\" class=\"dataframe\">\n",
       "  <thead>\n",
       "    <tr style=\"text-align: right;\">\n",
       "      <th></th>\n",
       "      <th>res_id</th>\n",
       "      <th>name</th>\n",
       "      <th>establishment</th>\n",
       "      <th>url</th>\n",
       "      <th>address</th>\n",
       "      <th>city</th>\n",
       "      <th>city_id</th>\n",
       "      <th>locality</th>\n",
       "      <th>latitude</th>\n",
       "      <th>longitude</th>\n",
       "      <th>...</th>\n",
       "      <th>price_range</th>\n",
       "      <th>currency</th>\n",
       "      <th>highlights</th>\n",
       "      <th>aggregate_rating</th>\n",
       "      <th>rating_text</th>\n",
       "      <th>votes</th>\n",
       "      <th>photo_count</th>\n",
       "      <th>opentable_support</th>\n",
       "      <th>delivery</th>\n",
       "      <th>takeaway</th>\n",
       "    </tr>\n",
       "  </thead>\n",
       "  <tbody>\n",
       "    <tr>\n",
       "      <th>0</th>\n",
       "      <td>3400299</td>\n",
       "      <td>Bikanervala</td>\n",
       "      <td>['Quick Bites']</td>\n",
       "      <td>https://www.zomato.com/agra/bikanervala-khanda...</td>\n",
       "      <td>Kalyani Point, Near Tulsi Cinema, Bypass Road,...</td>\n",
       "      <td>Agra</td>\n",
       "      <td>34</td>\n",
       "      <td>Khandari</td>\n",
       "      <td>27.211450</td>\n",
       "      <td>78.002381</td>\n",
       "      <td>...</td>\n",
       "      <td>2</td>\n",
       "      <td>Rs.</td>\n",
       "      <td>['Lunch', 'Takeaway Available', 'Credit Card',...</td>\n",
       "      <td>4.4</td>\n",
       "      <td>Very Good</td>\n",
       "      <td>814</td>\n",
       "      <td>154</td>\n",
       "      <td>0.0</td>\n",
       "      <td>-1</td>\n",
       "      <td>-1</td>\n",
       "    </tr>\n",
       "    <tr>\n",
       "      <th>1</th>\n",
       "      <td>3400005</td>\n",
       "      <td>Mama Chicken Mama Franky House</td>\n",
       "      <td>['Quick Bites']</td>\n",
       "      <td>https://www.zomato.com/agra/mama-chicken-mama-...</td>\n",
       "      <td>Main Market, Sadar Bazaar, Agra Cantt, Agra</td>\n",
       "      <td>Agra</td>\n",
       "      <td>34</td>\n",
       "      <td>Agra Cantt</td>\n",
       "      <td>27.160569</td>\n",
       "      <td>78.011583</td>\n",
       "      <td>...</td>\n",
       "      <td>2</td>\n",
       "      <td>Rs.</td>\n",
       "      <td>['Delivery', 'No Alcohol Available', 'Dinner',...</td>\n",
       "      <td>4.4</td>\n",
       "      <td>Very Good</td>\n",
       "      <td>1203</td>\n",
       "      <td>161</td>\n",
       "      <td>0.0</td>\n",
       "      <td>-1</td>\n",
       "      <td>-1</td>\n",
       "    </tr>\n",
       "    <tr>\n",
       "      <th>2</th>\n",
       "      <td>3401013</td>\n",
       "      <td>Bhagat Halwai</td>\n",
       "      <td>['Quick Bites']</td>\n",
       "      <td>https://www.zomato.com/agra/bhagat-halwai-2-sh...</td>\n",
       "      <td>62/1, Near Easy Day, West Shivaji Nagar, Goalp...</td>\n",
       "      <td>Agra</td>\n",
       "      <td>34</td>\n",
       "      <td>Shahganj</td>\n",
       "      <td>27.182938</td>\n",
       "      <td>77.979684</td>\n",
       "      <td>...</td>\n",
       "      <td>1</td>\n",
       "      <td>Rs.</td>\n",
       "      <td>['No Alcohol Available', 'Dinner', 'Takeaway A...</td>\n",
       "      <td>4.2</td>\n",
       "      <td>Very Good</td>\n",
       "      <td>801</td>\n",
       "      <td>107</td>\n",
       "      <td>0.0</td>\n",
       "      <td>1</td>\n",
       "      <td>-1</td>\n",
       "    </tr>\n",
       "    <tr>\n",
       "      <th>3</th>\n",
       "      <td>3400290</td>\n",
       "      <td>Bhagat Halwai</td>\n",
       "      <td>['Quick Bites']</td>\n",
       "      <td>https://www.zomato.com/agra/bhagat-halwai-civi...</td>\n",
       "      <td>Near Anjana Cinema, Nehru Nagar, Civil Lines, ...</td>\n",
       "      <td>Agra</td>\n",
       "      <td>34</td>\n",
       "      <td>Civil Lines</td>\n",
       "      <td>27.205668</td>\n",
       "      <td>78.004799</td>\n",
       "      <td>...</td>\n",
       "      <td>1</td>\n",
       "      <td>Rs.</td>\n",
       "      <td>['Takeaway Available', 'Credit Card', 'Lunch',...</td>\n",
       "      <td>4.3</td>\n",
       "      <td>Very Good</td>\n",
       "      <td>693</td>\n",
       "      <td>157</td>\n",
       "      <td>0.0</td>\n",
       "      <td>1</td>\n",
       "      <td>-1</td>\n",
       "    </tr>\n",
       "    <tr>\n",
       "      <th>4</th>\n",
       "      <td>3401744</td>\n",
       "      <td>The Salt Cafe Kitchen &amp; Bar</td>\n",
       "      <td>['Casual Dining']</td>\n",
       "      <td>https://www.zomato.com/agra/the-salt-cafe-kitc...</td>\n",
       "      <td>1C,3rd Floor, Fatehabad Road, Tajganj, Agra</td>\n",
       "      <td>Agra</td>\n",
       "      <td>34</td>\n",
       "      <td>Tajganj</td>\n",
       "      <td>27.157709</td>\n",
       "      <td>78.052421</td>\n",
       "      <td>...</td>\n",
       "      <td>3</td>\n",
       "      <td>Rs.</td>\n",
       "      <td>['Lunch', 'Serves Alcohol', 'Cash', 'Credit Ca...</td>\n",
       "      <td>4.9</td>\n",
       "      <td>Excellent</td>\n",
       "      <td>470</td>\n",
       "      <td>291</td>\n",
       "      <td>0.0</td>\n",
       "      <td>1</td>\n",
       "      <td>-1</td>\n",
       "    </tr>\n",
       "  </tbody>\n",
       "</table>\n",
       "<p>5 rows × 26 columns</p>\n",
       "</div>"
      ],
      "text/plain": [
       "    res_id                            name      establishment  \\\n",
       "0  3400299                     Bikanervala    ['Quick Bites']   \n",
       "1  3400005  Mama Chicken Mama Franky House    ['Quick Bites']   \n",
       "2  3401013                   Bhagat Halwai    ['Quick Bites']   \n",
       "3  3400290                   Bhagat Halwai    ['Quick Bites']   \n",
       "4  3401744     The Salt Cafe Kitchen & Bar  ['Casual Dining']   \n",
       "\n",
       "                                                 url  \\\n",
       "0  https://www.zomato.com/agra/bikanervala-khanda...   \n",
       "1  https://www.zomato.com/agra/mama-chicken-mama-...   \n",
       "2  https://www.zomato.com/agra/bhagat-halwai-2-sh...   \n",
       "3  https://www.zomato.com/agra/bhagat-halwai-civi...   \n",
       "4  https://www.zomato.com/agra/the-salt-cafe-kitc...   \n",
       "\n",
       "                                             address  city  city_id  \\\n",
       "0  Kalyani Point, Near Tulsi Cinema, Bypass Road,...  Agra       34   \n",
       "1        Main Market, Sadar Bazaar, Agra Cantt, Agra  Agra       34   \n",
       "2  62/1, Near Easy Day, West Shivaji Nagar, Goalp...  Agra       34   \n",
       "3  Near Anjana Cinema, Nehru Nagar, Civil Lines, ...  Agra       34   \n",
       "4        1C,3rd Floor, Fatehabad Road, Tajganj, Agra  Agra       34   \n",
       "\n",
       "      locality   latitude  longitude  ... price_range  currency  \\\n",
       "0     Khandari  27.211450  78.002381  ...           2       Rs.   \n",
       "1   Agra Cantt  27.160569  78.011583  ...           2       Rs.   \n",
       "2     Shahganj  27.182938  77.979684  ...           1       Rs.   \n",
       "3  Civil Lines  27.205668  78.004799  ...           1       Rs.   \n",
       "4      Tajganj  27.157709  78.052421  ...           3       Rs.   \n",
       "\n",
       "                                          highlights aggregate_rating  \\\n",
       "0  ['Lunch', 'Takeaway Available', 'Credit Card',...              4.4   \n",
       "1  ['Delivery', 'No Alcohol Available', 'Dinner',...              4.4   \n",
       "2  ['No Alcohol Available', 'Dinner', 'Takeaway A...              4.2   \n",
       "3  ['Takeaway Available', 'Credit Card', 'Lunch',...              4.3   \n",
       "4  ['Lunch', 'Serves Alcohol', 'Cash', 'Credit Ca...              4.9   \n",
       "\n",
       "  rating_text  votes  photo_count opentable_support delivery  takeaway  \n",
       "0   Very Good    814          154               0.0       -1        -1  \n",
       "1   Very Good   1203          161               0.0       -1        -1  \n",
       "2   Very Good    801          107               0.0        1        -1  \n",
       "3   Very Good    693          157               0.0        1        -1  \n",
       "4   Excellent    470          291               0.0        1        -1  \n",
       "\n",
       "[5 rows x 26 columns]"
      ]
     },
     "execution_count": 32,
     "metadata": {},
     "output_type": "execute_result"
    }
   ],
   "source": [
    "import pandas as pd\n",
    "import numpy as np\n",
    "import matplotlib.pyplot as plt\n",
    "import seaborn as sns\n",
    "from sklearn.model_selection import train_test_split,GridSearchCV,cross_val_score\n",
    "from sklearn.metrics import confusion_matrix,roc_curve,precision_recall_curve\n",
    "from sklearn.metrics import accuracy_score,roc_auc_score,classification_report\n",
    "from sklearn.impute import SimpleImputer,KNNImputer\n",
    "from sklearn.compose import make_column_transformer\n",
    "from sklearn.pipeline import make_pipeline\n",
    "from sklearn.preprocessing import StandardScaler,RobustScaler,OneHotEncoder\n",
    "\n",
    "from sklearn.linear_model import LogisticRegression\n",
    "from sklearn.svm import SVC\n",
    "from sklearn.neighbors import KNeighborsClassifier\n",
    "from sklearn.ensemble import RandomForestClassifier\n",
    "\n",
    "\n",
    "\n",
    "\n",
    "data=pd.read_csv('zomato_restaurants_in_india.csv')\n",
    "data.head(5)\n",
    "\n"
   ]
  },
  {
   "cell_type": "code",
   "execution_count": 33,
   "id": "e2afa392",
   "metadata": {},
   "outputs": [
    {
     "name": "stdout",
     "output_type": "stream",
     "text": [
      "<class 'pandas.core.frame.DataFrame'>\n",
      "RangeIndex: 211944 entries, 0 to 211943\n",
      "Data columns (total 26 columns):\n",
      " #   Column                Non-Null Count   Dtype  \n",
      "---  ------                --------------   -----  \n",
      " 0   res_id                211944 non-null  int64  \n",
      " 1   name                  211944 non-null  object \n",
      " 2   establishment         211944 non-null  object \n",
      " 3   url                   211944 non-null  object \n",
      " 4   address               211810 non-null  object \n",
      " 5   city                  211944 non-null  object \n",
      " 6   city_id               211944 non-null  int64  \n",
      " 7   locality              211944 non-null  object \n",
      " 8   latitude              211944 non-null  float64\n",
      " 9   longitude             211944 non-null  float64\n",
      " 10  zipcode               48757 non-null   object \n",
      " 11  country_id            211944 non-null  int64  \n",
      " 12  locality_verbose      211944 non-null  object \n",
      " 13  cuisines              210553 non-null  object \n",
      " 14  timings               208070 non-null  object \n",
      " 15  average_cost_for_two  211944 non-null  int64  \n",
      " 16  price_range           211944 non-null  int64  \n",
      " 17  currency              211944 non-null  object \n",
      " 18  highlights            211944 non-null  object \n",
      " 19  aggregate_rating      211944 non-null  float64\n",
      " 20  rating_text           211944 non-null  object \n",
      " 21  votes                 211944 non-null  int64  \n",
      " 22  photo_count           211944 non-null  int64  \n",
      " 23  opentable_support     211896 non-null  float64\n",
      " 24  delivery              211944 non-null  int64  \n",
      " 25  takeaway              211944 non-null  int64  \n",
      "dtypes: float64(4), int64(9), object(13)\n",
      "memory usage: 42.0+ MB\n"
     ]
    }
   ],
   "source": [
    "data.info()"
   ]
  },
  {
   "cell_type": "code",
   "execution_count": null,
   "id": "ca8e29da",
   "metadata": {},
   "outputs": [],
   "source": [
    "data.shape"
   ]
  },
  {
   "cell_type": "code",
   "execution_count": null,
   "id": "a6f2307c",
   "metadata": {},
   "outputs": [],
   "source": [
    "print(\"Number of duplicates:\",data.duplicated().sum())\n",
    "print(\"\\nPercentage of missing values:\\n\\n\",round(data.isna().sum())/data.shape[0]*100,2)"
   ]
  },
  {
   "cell_type": "code",
   "execution_count": null,
   "id": "ccd54ebd",
   "metadata": {},
   "outputs": [],
   "source": [
    "#rem0ving duplicates\n",
    "data.shape"
   ]
  },
  {
   "cell_type": "code",
   "execution_count": null,
   "id": "9ce95a62",
   "metadata": {},
   "outputs": [],
   "source": [
    "data.drop_duplicates([\"res_id\"],keep='first',inplace=True)\n"
   ]
  },
  {
   "cell_type": "code",
   "execution_count": null,
   "id": "90de82d8",
   "metadata": {},
   "outputs": [],
   "source": [
    "data.shape"
   ]
  },
  {
   "cell_type": "code",
   "execution_count": null,
   "id": "2445f70e",
   "metadata": {},
   "outputs": [],
   "source": [
    "#dealing with missing value"
   ]
  },
  {
   "cell_type": "code",
   "execution_count": null,
   "id": "dfa9693f",
   "metadata": {},
   "outputs": [],
   "source": [
    "data.isnull().sum()"
   ]
  },
  {
   "cell_type": "markdown",
   "id": "cba3dcfb",
   "metadata": {},
   "source": [
    "We have 5 variables with some kind of missing values. Since zipcode has ~80% missing data, its better to not consider it at all. The other 4 features can be delt with some kind of imputation, but before going through the trouble, its better to look and decide whether they would be beneficial for our analysis or we can simply omit them."
   ]
  },
  {
   "cell_type": "markdown",
   "id": "f19e587d",
   "metadata": {},
   "source": [
    "Omitting not useful features\n",
    "Here we will look at each feature and decide to consider them for our analysis or not:-\n",
    "\n",
    "res_id - Unique ID for each restaurant\n",
    "name - Name is useful since we will use it to find top restaurants\n",
    "establishment - Let's see what type of values we have in establishment"
   ]
  },
  {
   "cell_type": "code",
   "execution_count": null,
   "id": "94bfc61b",
   "metadata": {},
   "outputs": [],
   "source": [
    "data[\"establishment\"].unique()"
   ]
  },
  {
   "cell_type": "markdown",
   "id": "6165275a",
   "metadata": {},
   "source": [
    "Establishment looks like a nice feature to perform EDA, however each value has an unwanted square brackets and quotes which seems noisy. Let's remove them with apply( ) function. Also, we have one value which is an empty string, let's rename it to \"NA\" to avoid confusion."
   ]
  },
  {
   "cell_type": "code",
   "execution_count": null,
   "id": "540d37e4",
   "metadata": {},
   "outputs": [],
   "source": [
    "# Removing [' '] from each value\n",
    "print(data[\"establishment\"].unique()[0])\n",
    "data[\"establishment\"] = data[\"establishment\"].apply(lambda x:x[2:-2])\n",
    "print(data[\"establishment\"].unique()[0])\n",
    "\n",
    "# Changing ''  to 'NA'\n",
    "print(data[\"establishment\"].unique())\n",
    "data[\"establishment\"] = data[\"establishment\"].apply(lambda x : np.where(x==\"\", \"NA\", x))\n",
    "print(data[\"establishment\"].unique())"
   ]
  },
  {
   "cell_type": "markdown",
   "id": "30d40620",
   "metadata": {},
   "source": [
    "Although it can be an interesting feature, but since this feature has so many unique classes, we will avoid it.\n",
    "\n",
    "latitude - Can be helpful while using geographic maps, but we won't be doing that here\n",
    "longitude - Same as above\n",
    "zipcode - Approx 80% missing values\n",
    "hence,we are going to drop the feature\n",
    "country_id - Since this dataset is for Indian restaurants, there should be just one unique id here. Let's check."
   ]
  },
  {
   "cell_type": "code",
   "execution_count": null,
   "id": "da1f6694",
   "metadata": {},
   "outputs": [],
   "source": [
    "data['country_id'].unique()"
   ]
  },
  {
   "cell_type": "markdown",
   "id": "455a737e",
   "metadata": {},
   "source": [
    "cuisines - This feature has some missing values. Even though this has 9382 unique classes, we can see that each restaurant has a list of cusinies and the composition of the list is the reason why we have so many different cuisine classes. Let's check actual number of unique cuisine classes. But first we need to replace null values with a label."
   ]
  },
  {
   "cell_type": "markdown",
   "id": "594be9bd",
   "metadata": {},
   "source": [
    "\n",
    "\n"
   ]
  },
  {
   "cell_type": "code",
   "execution_count": null,
   "id": "47142fd0",
   "metadata": {},
   "outputs": [],
   "source": [
    "print(data[\"cuisines\"].nunique())\n",
    "print(data[\"cuisines\"].unique())\n",
    "data[\"cuisines\"] = data[\"cuisines\"].fillna(\"No cuisine\")\n"
   ]
  },
  {
   "cell_type": "markdown",
   "id": "e5a5b929",
   "metadata": {},
   "source": [
    "city_id: We can uniquely use city name or id\n",
    "    so one feature is enough\n",
    "locality_verbose:same as locality\n",
    "timings - This also has missing data, however it has 7740 unique classes. Also, it is not structured even if we try to reduce the number classes like we did in cuisines. Its better to omit it altogether.\n"
   ]
  },
  {
   "cell_type": "code",
   "execution_count": null,
   "id": "cd320ce3",
   "metadata": {},
   "outputs": [],
   "source": [
    "print(data[\"timings\"].nunique())\n",
    "print(data[\"timings\"].unique())"
   ]
  },
  {
   "cell_type": "code",
   "execution_count": null,
   "id": "70761843",
   "metadata": {},
   "outputs": [],
   "source": [
    "#average_cost_for_two - This is an interesting feature for our analysis, although the value \"0\" is strange and should be an outlier\n",
    "data[\"average_cost_for_two\"].nunique()"
   ]
  },
  {
   "cell_type": "code",
   "execution_count": null,
   "id": "2e65c38d",
   "metadata": {},
   "outputs": [],
   "source": [
    "#price_range - Average prices automatically characterized into bins\n",
    "data[\"price_range\"].unique()"
   ]
  },
  {
   "cell_type": "code",
   "execution_count": null,
   "id": "b3bac0f1",
   "metadata": {},
   "outputs": [],
   "source": [
    "#currency - Only one class. Not useful\n",
    "data[\"currency\"].unique()"
   ]
  },
  {
   "cell_type": "code",
   "execution_count": null,
   "id": "5466f7c0",
   "metadata": {},
   "outputs": [],
   "source": [
    "#highlights - They represent certain features that the restaurant specializes in and wants to highlight to their customers. Each restaurant has a list of highlights which makes the composition different for each one. We can, filter this and find total unique highlights from all restaurants.\n",
    "print(data[\"highlights\"].nunique())\n",
    "print(data[\"highlights\"].unique())"
   ]
  },
  {
   "cell_type": "code",
   "execution_count": null,
   "id": "4f872eb2",
   "metadata": {},
   "outputs": [],
   "source": [
    "hl = []\n",
    "data[\"highlights\"].apply(lambda x : hl.extend(x[2:-2].split(\"', '\")))\n",
    "hl = pd.Series(hl)\n",
    "print(\"Total number of unique highlights = \", hl.nunique())"
   ]
  },
  {
   "cell_type": "code",
   "execution_count": null,
   "id": "e197ee69",
   "metadata": {},
   "outputs": [],
   "source": [
    "#aggregate_rating - Rating given to the restaurant\n",
    "#rating_text - Characterisation of numeric rating into bins by using labels. We will be using direct ratings in our analysis, so we can ignore this.\n",
    "#votes - Number of votes contributing to the rating\n",
    "#photo_count - Photo uploads in reviews\n",
    "#Let's check the mean and range of above features\n",
    "\n",
    "data[[\"aggregate_rating\",\"votes\",\"photo_count\"]].describe().loc[[\"mean\",\"min\",\"max\"]]"
   ]
  },
  {
   "cell_type": "markdown",
   "id": "c7282e16",
   "metadata": {},
   "source": [
    "# Exploratory Data Analysis (EDA)"
   ]
  },
  {
   "cell_type": "code",
   "execution_count": null,
   "id": "ed5ad4ae",
   "metadata": {},
   "outputs": [],
   "source": [
    "\n",
    "#Restaurant chains\n",
    "#Here chains represent restaurants with more than one outlet\n",
    "\n",
    "#Chains vs Outlets\n",
    "outlets = data[\"name\"].value_counts()\n",
    "outlets"
   ]
  },
  {
   "cell_type": "code",
   "execution_count": null,
   "id": "e4c5d6e7",
   "metadata": {},
   "outputs": [],
   "source": [
    "chains=outlets[outlets>=2]\n",
    "single=outlets[outlets==1]"
   ]
  },
  {
   "cell_type": "code",
   "execution_count": null,
   "id": "e01d6966",
   "metadata": {},
   "outputs": [],
   "source": [
    "chains\n",
    "single"
   ]
  },
  {
   "cell_type": "code",
   "execution_count": null,
   "id": "1433349b",
   "metadata": {},
   "outputs": [],
   "source": [
    "print(\"Total Restaurants = \", data.shape[0])\n",
    "print(\"Total Restaurants that are part of some chain = \", data.shape[0] - single.shape[0])\n",
    "print(\"Percentage of Restaurants that are part of a chain = \", np.round((data.shape[0] - single.shape[0]) / data.shape[0],2)*100, \"%\")\n"
   ]
  },
  {
   "cell_type": "markdown",
   "id": "74f48446",
   "metadata": {},
   "source": [
    "Total Restaurants =  55568\n",
    "Total Restaurants that are part of some chain =  19358\n",
    "Percentage of Restaurants that are part of a chain =  35.0 %\n",
    "35% of total restaurants are part of some kind of restaurant chain. Here, we should account for cases where two different retaurants might have exact same name but are not related to each other.\n",
    "\n",
    "Top restaurant chains (by number of outlets)\n",
    "Let's plot a horizontal bar graph to look at Top 10 restaurant chains. For the color scheme, we are using a list of pre-defined and selected colours to make the chart more appealing. If you want your analysis to look good visually, you should customize each and every element of your graph."
   ]
  },
  {
   "cell_type": "code",
   "execution_count": null,
   "id": "2ea47cd9",
   "metadata": {},
   "outputs": [],
   "source": [
    "chains.head()"
   ]
  },
  {
   "cell_type": "code",
   "execution_count": null,
   "id": "eff4e89d",
   "metadata": {},
   "outputs": [],
   "source": [
    "top10_chains = data[\"name\"].value_counts()[:10].sort_values(ascending=True)\n",
    "top10_chains"
   ]
  },
  {
   "cell_type": "code",
   "execution_count": null,
   "id": "163f81c3",
   "metadata": {},
   "outputs": [],
   "source": [
    "height = top10_chains.values\n",
    "bars = top10_chains.index\n",
    "y_pos = np.arange(len(bars))\n",
    "\n",
    "fig = plt.figure(figsize=[11,7], frameon=False)\n",
    "ax = fig.gca()\n",
    "ax.spines[\"top\"].set_visible(\"#424242\")\n",
    "ax.spines[\"right\"].set_visible(False)\n",
    "ax.spines[\"left\"].set_color(\"#424242\")\n",
    "ax.spines[\"bottom\"].set_color(\"#424242\")\n",
    "\n",
    "#colors = [\"green\",\"blue\",\"magenta\",\"cyan\",\"gray\",\"yellow\",\"purple\",\"violet\",\"orange\",\"red\",\"maroon\"]\n",
    "#random.shuffle(colors)\n",
    "colors = [\"#f9cdac\",\"#f2a49f\",\"#ec7c92\",\"#e65586\",\"#bc438b\",\"#933291\",\"#692398\",\"#551c7b\",\"#41155e\",\"#2d0f41\"]\n",
    "plt.barh(y_pos, height, color=colors)\n",
    " \n",
    "plt.xticks(color=\"#424242\")\n",
    "\n",
    "plt.yticks(y_pos, bars, color=\"#424242\")\n",
    "plt.xlabel(\"Number of outlets in India\")\n",
    "\n",
    "for i, v in enumerate(height):\n",
    "    ax.text(v+3, i, str(v), color='#424242')\n",
    "plt.title(\"Top 10 Restaurant chain in India (by number of outlets)\")\n",
    "\n",
    "\n",
    "plt.show()"
   ]
  },
  {
   "cell_type": "markdown",
   "id": "e3a50697",
   "metadata": {},
   "source": [
    "This chart is majorly dominaed by big fast food chains\n",
    "\n",
    "Top restaurant chains (by average rating)\n",
    "Here we will look at top chains by their ratings. I have set the criteria of number of outlets to greater than 4 to remove some outliers."
   ]
  },
  {
   "cell_type": "code",
   "execution_count": null,
   "id": "feca0b61",
   "metadata": {},
   "outputs": [],
   "source": [
    "outlets = data[\"name\"].value_counts()\n",
    "atleast_5_outlets = outlets[outlets > 4]\n",
    "top10_chains2 = data[data[\"name\"].isin(atleast_5_outlets.index)].groupby(\"name\").mean()[\"aggregate_rating\"].sort_values(ascending=False)[:10].sort_values(ascending=True)"
   ]
  },
  {
   "cell_type": "code",
   "execution_count": null,
   "id": "bc7899b2",
   "metadata": {},
   "outputs": [],
   "source": [
    "height = pd.Series(top10_chains2.values).map(lambda x : np.round(x, 2))\n",
    "bars = top10_chains2.index\n",
    "y_pos = np.arange(len(bars))\n",
    "\n",
    "fig = plt.figure(figsize=[11,7], frameon=False)\n",
    "ax = fig.gca()\n",
    "ax.spines[\"top\"].set_visible(\"#424242\")\n",
    "ax.spines[\"right\"].set_visible(False)\n",
    "ax.spines[\"left\"].set_color(\"#424242\")\n",
    "ax.spines[\"bottom\"].set_color(\"#424242\")\n",
    "\n",
    "#colors = [\"green\",\"blue\",\"magenta\",\"cyan\",\"gray\",\"yellow\",\"purple\",\"violet\",\"orange\",\"red\",\"maroon\"]\n",
    "#random.shuffle(colors)\n",
    "colors = ['#fded86', '#fce36b', '#f7c65d', '#f1a84f', '#ec8c41', '#e76f34', '#e25328', '#b04829', '#7e3e2b', '#4c3430']\n",
    "plt.barh(y_pos, height, color=colors)\n",
    "\n",
    "plt.xlim(3)\n",
    "plt.xticks(color=\"#424242\")\n",
    "plt.yticks(y_pos, bars, color=\"#424242\")\n",
    "plt.xlabel(\"Number of outlets in India\")\n",
    "\n",
    "for i, v in enumerate(height):\n",
    "    ax.text(v + 0.01, i, str(v), color='#424242')\n",
    "plt.title(\"Top 10 Restaurant chain in India (by average Rating)\")\n",
    "\n",
    "\n",
    "plt.show()"
   ]
  },
  {
   "cell_type": "markdown",
   "id": "3f7d8f56",
   "metadata": {},
   "source": [
    "Interestingly, no fast food chain appears in this chart. To maintain a high rating, restaurants needs to provide superior service which becomes impossible with booming fast food restaurant in every street."
   ]
  },
  {
   "cell_type": "markdown",
   "id": "c192119d",
   "metadata": {},
   "source": [
    "# Establishment Types\n"
   ]
  },
  {
   "cell_type": "raw",
   "id": "c74a0e7e",
   "metadata": {},
   "source": [
    "Number Of restaurants(by establishment type)"
   ]
  },
  {
   "cell_type": "code",
   "execution_count": null,
   "id": "4c7fdf4e",
   "metadata": {},
   "outputs": [],
   "source": [
    "est_count = data.groupby(\"establishment\").count()[\"res_id\"].sort_values(ascending=False)[:5]\n",
    "\n",
    "fig = plt.figure(figsize=[8,5], frameon=False)\n",
    "ax = fig.gca()\n",
    "ax.spines[\"top\"].set_visible(False)\n",
    "ax.spines[\"right\"].set_visible(False)\n",
    "ax.spines[\"left\"].set_color(\"#424242\")\n",
    "ax.spines[\"bottom\"].set_color(\"#424242\")\n",
    "\n",
    "#colors = [\"green\",\"blue\",\"magenta\",\"cyan\",\"gray\",\"yellow\",\"purple\",\"violet\",\"orange\",\"red\",\"maroon\"]\n",
    "#random.shuffle(colors)\n",
    "colors = [\"#2d0f41\",'#933291',\"#e65586\",\"#f2a49f\",\"#f9cdac\"]\n",
    "plt.bar(est_count.index, est_count.values, color=colors)\n",
    "\n",
    "plt.xticks(range(0, 6), color=\"#424242\")\n",
    "plt.yticks(range(0, 25000, 5000), color=\"#424242\")\n",
    "plt.xlabel(\"Top 5 establishment types\")\n",
    "\n",
    "for i, v in enumerate(est_count):\n",
    "    ax.text(i-0.2, v+500, str(v), color='#424242')\n",
    "plt.title(\"Number of restaurants (by establishment type)\")\n",
    "\n",
    "\n",
    "plt.show()\n"
   ]
  },
  {
   "cell_type": "code",
   "execution_count": null,
   "id": "e07e4609",
   "metadata": {},
   "outputs": [],
   "source": [
    "Top 3 represents more casual and quick service restaurants, then from 4-6 we have dessert based shops.\n",
    "\n",
    "Average rating, votes and photos (by Establishment)\n",
    "Here, we will not plot each graph since it will make this notebook filled with horizontal bar charts. I see horizontal bar charts the only option to display results of this kind when we have lots of classes to compare (here 10 classes). Let's look at value_counts( ) directly\n",
    "\n"
   ]
  },
  {
   "cell_type": "code",
   "execution_count": null,
   "id": "ed533ad1",
   "metadata": {},
   "outputs": [],
   "source": [
    "rating_by_est = data.groupby(\"establishment\").mean()[\"aggregate_rating\"].sort_values(ascending=False)[:10]\n",
    "rating_by_est"
   ]
  },
  {
   "cell_type": "code",
   "execution_count": null,
   "id": "11bfcc65",
   "metadata": {},
   "outputs": [],
   "source": [
    "# To check the number of outlets in each of the above establishment type, uncomment to following code\n",
    "\n",
    "#est_count = data.groupby(\"establishment\").count()[\"name\"].sort_values(ascending=False)\n",
    "#rating_by_est_map = est_count.index.isin(rating_by_est.index)\n",
    "#est_count = est_count[rating_by_est_map][rating_by_est.index]\n",
    "#est_count\n",
    "data.groupby(\"establishment\").mean()[\"votes\"].sort_values(ascending=False)[:10]"
   ]
  },
  {
   "cell_type": "code",
   "execution_count": null,
   "id": "ada1696a",
   "metadata": {},
   "outputs": [],
   "source": [
    "data.groupby(\"establishment\").mean()[\"photo_count\"].sort_values(ascending=False)[:10]"
   ]
  },
  {
   "cell_type": "markdown",
   "id": "ef409308",
   "metadata": {},
   "source": [
    "It can be concluded that establishments with alcohol availability have highest average ratings, votes and photo uploads."
   ]
  },
  {
   "cell_type": "markdown",
   "id": "d8d980ee",
   "metadata": {},
   "source": [
    "# cities"
   ]
  },
  {
   "cell_type": "markdown",
   "id": "a5dfcfa1",
   "metadata": {},
   "source": [
    "Number of restaurants (by cities)"
   ]
  },
  {
   "cell_type": "code",
   "execution_count": null,
   "id": "26d7602c",
   "metadata": {},
   "outputs": [],
   "source": [
    "city_counts = data.groupby(\"city\").count()[\"res_id\"].sort_values(ascending=True)[-10:]\n",
    "\n",
    "height = pd.Series(city_counts.values)\n",
    "bars = city_counts.index\n",
    "y_pos = np.arange(len(bars))\n",
    "\n",
    "fig = plt.figure(figsize=[11,7], frameon=False)\n",
    "ax = fig.gca()\n",
    "ax.spines[\"top\"].set_visible(\"#424242\")\n",
    "ax.spines[\"right\"].set_visible(False)\n",
    "ax.spines[\"left\"].set_color(\"#424242\")\n",
    "ax.spines[\"bottom\"].set_color(\"#424242\")\n",
    "\n",
    "#colors = [\"green\",\"blue\",\"magenta\",\"cyan\",\"gray\",\"yellow\",\"purple\",\"violet\",\"orange\",\"red\",\"maroon\"]\n",
    "#random.shuffle(colors)\n",
    "colors = ['#dcecc9', '#aadacc', '#78c6d0', '#48b3d3', '#3e94c0', '#3474ac', '#2a5599', '#203686', '#18216b', '#11174b']\n",
    "plt.barh(y_pos, height, color=colors)\n",
    "\n",
    "plt.xlim(3)\n",
    "plt.xticks(color=\"#424242\")\n",
    "plt.yticks(y_pos, bars, color=\"#424242\")\n",
    "plt.xlabel(\"Number of outlets\")\n",
    "\n",
    "for i, v in enumerate(height):\n",
    "    ax.text(v + 20, i, str(v), color='#424242')\n",
    "plt.title(\"Number of restaurants (by city)\")\n",
    "\n",
    "\n",
    "plt.show()"
   ]
  },
  {
   "cell_type": "markdown",
   "id": "79ce30f4",
   "metadata": {},
   "source": [
    "As expected, metro cities have more number of restaurants than others with South India dominating the Top 4"
   ]
  },
  {
   "cell_type": "markdown",
   "id": "161d1081",
   "metadata": {},
   "source": [
    "Average rating, votes and photos (by city)"
   ]
  },
  {
   "cell_type": "code",
   "execution_count": null,
   "id": "5ccdbe41",
   "metadata": {},
   "outputs": [],
   "source": [
    "rating_by_city = data.groupby(\"city\").mean()[\"aggregate_rating\"].sort_values(ascending=False)[:10]\n",
    "rating_by_city"
   ]
  },
  {
   "cell_type": "code",
   "execution_count": null,
   "id": "8a0d69e0",
   "metadata": {},
   "outputs": [],
   "source": [
    "# To check the number of outlets in each of the above establishment type\n",
    "\n",
    "#city_count = data.groupby(\"city\").count()[\"name\"].sort_values(ascending=False)\n",
    "#rating_by_city_map = city_count.index.isin(rating_by_city.index)\n",
    "#city_count = city_count[rating_by_city_map][rating_by_city.index]\n",
    "#city_count\n",
    "data.groupby(\"city\").mean()[\"votes\"].sort_values(ascending=False)[:10]"
   ]
  },
  {
   "cell_type": "code",
   "execution_count": null,
   "id": "d9b4cc7b",
   "metadata": {},
   "outputs": [],
   "source": [
    "data.groupby(\"city\").mean()[\"photo_count\"].sort_values(ascending=False)[:10]"
   ]
  },
  {
   "cell_type": "markdown",
   "id": "2113b07b",
   "metadata": {},
   "source": [
    "Gurgaon has highest rated restaurants whereas Hyderabad has more number of critics. Mumbai and New Delhi dominates for most photo uploads per outlet."
   ]
  },
  {
   "cell_type": "markdown",
   "id": "3a2bd1e2",
   "metadata": {},
   "source": [
    "# Cuisine"
   ]
  },
  {
   "cell_type": "markdown",
   "id": "fa3e5509",
   "metadata": {},
   "source": [
    "unique cuisine"
   ]
  },
  {
   "cell_type": "code",
   "execution_count": null,
   "id": "ef1adb50",
   "metadata": {},
   "outputs": [],
   "source": [
    "print(\"Total number of unique cuisines = \", cuisines.nunique())"
   ]
  },
  {
   "cell_type": "markdown",
   "id": "0cbb2972",
   "metadata": {},
   "source": [
    "Number of resturants(by cuisine)"
   ]
  },
  {
   "cell_type": "code",
   "execution_count": null,
   "id": "2034d36a",
   "metadata": {},
   "outputs": [],
   "source": [
    "c_count = cuisines.value_counts()[:5]\n",
    "\n",
    "fig = plt.figure(figsize=[8,5], frameon=False)\n",
    "ax = fig.gca()\n",
    "ax.spines[\"top\"].set_visible(False)\n",
    "ax.spines[\"right\"].set_visible(False)\n",
    "ax.spines[\"left\"].set_color(\"#424242\")\n",
    "ax.spines[\"bottom\"].set_color(\"#424242\")\n",
    "\n",
    "#colors = [\"green\",\"blue\",\"magenta\",\"cyan\",\"gray\",\"yellow\",\"purple\",\"violet\",\"orange\",\"red\",\"maroon\"]\n",
    "#random.shuffle(colors)\n",
    "colors = ['#4c3430', '#b04829', '#ec8c41', '#f7c65d','#fded86']\n",
    "plt.bar(c_count.index, c_count.values, color=colors)\n",
    "\n",
    "plt.xticks(range(0, 6), color=\"#424242\")\n",
    "plt.yticks(range(0, 30000, 5000), color=\"#424242\")\n",
    "plt.xlabel(\"Top 5 cuisines\")\n",
    "\n",
    "for i, v in enumerate(c_count):\n",
    "    ax.text(i-0.2, v+500, str(v), color='#424242')\n",
    "plt.title(\"Number of restaurants (by cuisine type)\")\n",
    "\n",
    "\n",
    "plt.show()"
   ]
  },
  {
   "cell_type": "markdown",
   "id": "3b84e8e7",
   "metadata": {},
   "source": [
    "Surprisingly, Chinese food comes second in the list of cuisines that Indians prefer, even more than fast food, desserts and South Indian food."
   ]
  },
  {
   "cell_type": "markdown",
   "id": "f9b0131a",
   "metadata": {},
   "source": [
    "Highest rated cuisine"
   ]
  },
  {
   "cell_type": "code",
   "execution_count": null,
   "id": "9e855925",
   "metadata": {},
   "outputs": [],
   "source": [
    "data[\"cuisines2\"] = data['cuisines'].apply(lambda x : x.split(\", \"))\n",
    "\n",
    "cuisines_list = cuisines.unique().tolist()\n",
    "zeros = np.zeros(shape=(len(cuisines_list),2))\n",
    "c_and_r = pd.DataFrame(zeros, index=cuisines_list, columns=[\"Sum\",\"Total\"])"
   ]
  },
  {
   "cell_type": "code",
   "execution_count": null,
   "id": "54876080",
   "metadata": {},
   "outputs": [],
   "source": [
    "for i, x in data.iterrows():\n",
    "    for j in x[\"cuisines2\"]:\n",
    "        c_and_r.loc[j][\"Sum\"] += x[\"aggregate_rating\"]  \n",
    "        c_and_r.loc[j][\"Total\"] += 1"
   ]
  },
  {
   "cell_type": "code",
   "execution_count": null,
   "id": "f3698f26",
   "metadata": {},
   "outputs": [],
   "source": [
    "c_and_r[\"Mean\"] = c_and_r[\"Sum\"] / c_and_r[\"Total\"]\n",
    "c_and_r"
   ]
  },
  {
   "cell_type": "code",
   "execution_count": null,
   "id": "32f7ba3d",
   "metadata": {},
   "outputs": [],
   "source": [
    "c_and_r[[\"Mean\",\"Total\"]].sort_values(by=\"Mean\", ascending=False)[:10]"
   ]
  },
  {
   "cell_type": "markdown",
   "id": "fa15c3d3",
   "metadata": {},
   "source": [
    "We can ignore a few cuisines in this list since they are available in less number. But the overall conclusion which can be drawn is that International (and rarely available) cuisines are rated higher than local cuisines."
   ]
  },
  {
   "cell_type": "markdown",
   "id": "afbd56f6",
   "metadata": {},
   "source": [
    "# Highlights/Features of restaurants"
   ]
  },
  {
   "cell_type": "markdown",
   "id": "877cf651",
   "metadata": {},
   "source": [
    "Unique Highlights"
   ]
  },
  {
   "cell_type": "code",
   "execution_count": null,
   "id": "f61c0d46",
   "metadata": {},
   "outputs": [],
   "source": [
    "print(\"Total number of unique cuisines = \", hl.nunique())"
   ]
  },
  {
   "cell_type": "markdown",
   "id": "224d19e9",
   "metadata": {},
   "source": [
    "Number of restaurants(by highlights)"
   ]
  },
  {
   "cell_type": "code",
   "execution_count": null,
   "id": "076562e1",
   "metadata": {},
   "outputs": [],
   "source": [
    "h_count = hl.value_counts()[:5]\n",
    "\n",
    "fig = plt.figure(figsize=[10,6], frameon=False)\n",
    "ax = fig.gca()\n",
    "ax.spines[\"top\"].set_visible(False)\n",
    "ax.spines[\"right\"].set_visible(False)\n",
    "ax.spines[\"left\"].set_color(\"#424242\")\n",
    "ax.spines[\"bottom\"].set_color(\"#424242\")\n",
    "\n",
    "#colors = [\"green\",\"blue\",\"magenta\",\"cyan\",\"gray\",\"yellow\",\"purple\",\"violet\",\"orange\",\"red\",\"maroon\"]\n",
    "#random.shuffle(colors)\n",
    "colors = ['#11174b', '#2a5599', '#3e94c0', '#78c6d0', '#dcecc9']\n",
    "plt.bar(h_count.index, h_count.values, color=colors)\n",
    "\n",
    "plt.xticks(range(0, 6), color=\"#424242\")\n",
    "plt.yticks(range(0, 70000, 10000), color=\"#424242\")\n",
    "plt.xlabel(\"Top 5 highlights\")\n",
    "\n",
    "for i, v in enumerate(h_count):\n",
    "    ax.text(i-0.2, v+500, str(v), color='#424242')\n",
    "plt.title(\"Number of restaurants (by highlights)\")\n",
    "\n",
    "\n",
    "plt.show()"
   ]
  },
  {
   "cell_type": "markdown",
   "id": "84b271b6",
   "metadata": {},
   "source": [
    "Top 5 highlights doesn't convey much information since they are very trivial to almost every restaurant. Let's look at uncommon highlights that matter more to the customers."
   ]
  },
  {
   "cell_type": "markdown",
   "id": "df830466",
   "metadata": {},
   "source": [
    "HIghest rated highlights"
   ]
  },
  {
   "cell_type": "code",
   "execution_count": null,
   "id": "6522a010",
   "metadata": {},
   "outputs": [],
   "source": [
    "data[\"highlights\"][0]"
   ]
  },
  {
   "cell_type": "code",
   "execution_count": null,
   "id": "728484da",
   "metadata": {},
   "outputs": [],
   "source": [
    "data[\"highlights2\"] = data['highlights'].apply(lambda x : x[2:-2].split(\"', '\"))\n",
    "\n",
    "hl_list = hl.unique().tolist()\n",
    "zeros = np.zeros(shape=(len(hl_list),2))\n",
    "h_and_r = pd.DataFrame(zeros, index=hl_list, columns=[\"Sum\",\"Total\"])"
   ]
  },
  {
   "cell_type": "code",
   "execution_count": null,
   "id": "f40425e2",
   "metadata": {},
   "outputs": [],
   "source": [
    "for i, x in data.iterrows():\n",
    "    for j in x[\"highlights2\"]:\n",
    "        h_and_r.loc[j][\"Sum\"] += x[\"aggregate_rating\"]  \n",
    "        h_and_r.loc[j][\"Total\"] += 1"
   ]
  },
  {
   "cell_type": "code",
   "execution_count": null,
   "id": "1cfe1090",
   "metadata": {},
   "outputs": [],
   "source": [
    "h_and_r[\"Mean\"] = h_and_r[\"Sum\"] / h_and_r[\"Total\"]\n",
    "h_and_r"
   ]
  },
  {
   "cell_type": "code",
   "execution_count": null,
   "id": "7d501567",
   "metadata": {},
   "outputs": [],
   "source": [
    "h_and_r[[\"Mean\",\"Total\"]].sort_values(by=\"Mean\", ascending=False)[:10]"
   ]
  },
  {
   "cell_type": "markdown",
   "id": "9a9bb38e",
   "metadata": {},
   "source": [
    "We can safely ignore highlights which have a frequency of less than 10 since they can be considered as outliers. Features like Gastro pub, Craft beer, Romantic dining and Sneakpeek are well received among customers."
   ]
  },
  {
   "cell_type": "markdown",
   "id": "d8b17051",
   "metadata": {},
   "source": [
    "# Highlights wordcloud"
   ]
  },
  {
   "cell_type": "code",
   "execution_count": null,
   "id": "08735b5d",
   "metadata": {},
   "outputs": [],
   "source": [
    "hl_str = \"\"\n",
    "for i in hl:\n",
    "    hl_str += str(i) + \" \"\n",
    "wordcloud = WordCloud(width = 800, height = 500, \n",
    "                background_color ='white', \n",
    "                min_font_size = 10, max_words=30).generate(hl_str) \n",
    "                         \n",
    "plt.figure(figsize = (8, 8), facecolor = None) \n",
    "plt.imshow(wordcloud) \n",
    "plt.axis(\"off\") \n",
    "plt.tight_layout(pad = 0) \n",
    "  \n",
    "plt.show()\n"
   ]
  },
  {
   "cell_type": "markdown",
   "id": "0bf906de",
   "metadata": {},
   "source": [
    "# Ratings and cost"
   ]
  },
  {
   "cell_type": "markdown",
   "id": "17cc9ee9",
   "metadata": {},
   "source": [
    "Rating distribution"
   ]
  },
  {
   "cell_type": "code",
   "execution_count": null,
   "id": "7cb6685a",
   "metadata": {},
   "outputs": [],
   "source": [
    "sns.kdeplot(data['aggregate_rating'], shade=True)\n",
    "plt.title(\"Ratings distribution\")\n",
    "plt.show()"
   ]
  },
  {
   "cell_type": "markdown",
   "id": "f99471fa",
   "metadata": {},
   "source": [
    "There is a huge spike at 0 which might account for newly opened or unrated restaurants. On average, majority of restaurants have rating between 3 to 4 with fewer restaurants managing to go beyond 4."
   ]
  },
  {
   "cell_type": "markdown",
   "id": "7bf6fa2e",
   "metadata": {},
   "source": [
    "Average cost for two dstribution"
   ]
  },
  {
   "cell_type": "code",
   "execution_count": null,
   "id": "fb80f2a1",
   "metadata": {},
   "outputs": [],
   "source": [
    "sns.kdeplot(data['average_cost_for_two'], shade=True)\n",
    "plt.title(\"Average cost for 2 distribution\")\n",
    "plt.show()"
   ]
  },
  {
   "cell_type": "markdown",
   "id": "d9eecd1c",
   "metadata": {},
   "source": [
    "With few restaurants charging average of Rs.25000+ for two, this graph is extremely skewed. Let's take a closer look at a lower range of 0 to 60000."
   ]
  },
  {
   "cell_type": "code",
   "execution_count": null,
   "id": "99413891",
   "metadata": {},
   "outputs": [],
   "source": [
    "sns.kdeplot(data['average_cost_for_two'], shade=True)\n",
    "plt.xlim([0, 6000])\n",
    "plt.xticks(range(0,6000,500))\n",
    "plt.title(\"Average cost for 2 distribution\")\n",
    "plt.show()"
   ]
  },
  {
   "cell_type": "markdown",
   "id": "8becd94b",
   "metadata": {},
   "source": [
    "Majority of restaurants are budget friendly with an average cost between Rs.250 to Rs.800 for two."
   ]
  },
  {
   "cell_type": "markdown",
   "id": "b37d445a",
   "metadata": {},
   "source": [
    "Price Range Count"
   ]
  },
  {
   "cell_type": "code",
   "execution_count": null,
   "id": "64fbd2d2",
   "metadata": {},
   "outputs": [],
   "source": [
    "pr_count = data.groupby(\"price_range\").count()[\"name\"]\n",
    "\n",
    "fig = plt.figure(figsize=[8,5], frameon=False)\n",
    "ax = fig.gca()\n",
    "ax.spines[\"top\"].set_visible(False)\n",
    "ax.spines[\"right\"].set_visible(False)\n",
    "ax.spines[\"left\"].set_color(\"#424242\")\n",
    "ax.spines[\"bottom\"].set_color(\"#424242\")\n",
    "\n",
    "#colors = [\"green\",\"blue\",\"magenta\",\"cyan\",\"gray\",\"yellow\",\"purple\",\"violet\",\"orange\",\"red\",\"maroon\"]\n",
    "#random.shuffle(colors)\n",
    "colors = [\"#2d0f41\",'#933291',\"#f2a49f\",\"#f9cdac\"]\n",
    "plt.bar(pr_count.index, pr_count.values, color=colors)\n",
    "\n",
    "plt.xticks(range(0, 5), color=\"#424242\")\n",
    "plt.yticks(range(0, 40000, 5000), color=\"#424242\")\n",
    "plt.xlabel(\"Price Ranges\")\n",
    "\n",
    "for i, v in enumerate(pr_count):\n",
    "    ax.text(i+0.85, v+700, str(v), color='#424242')\n",
    "plt.title(\"Number of restaurants (by price ranges)\")\n",
    "\n",
    "\n",
    "plt.show()"
   ]
  },
  {
   "cell_type": "markdown",
   "id": "5859af98",
   "metadata": {},
   "source": [
    "Price range chart supports our previous observation from the Average cost chart. Number of restaurant decreases with increase in price range."
   ]
  },
  {
   "cell_type": "markdown",
   "id": "f766beb5",
   "metadata": {},
   "source": [
    "Relation between Average price for two and Rating"
   ]
  },
  {
   "cell_type": "code",
   "execution_count": null,
   "id": "899f1ac9",
   "metadata": {},
   "outputs": [],
   "source": [
    "np.round(data[[\"average_cost_for_two\",\"aggregate_rating\"]].corr()[\"average_cost_for_two\"][1],2)"
   ]
  },
  {
   "cell_type": "markdown",
   "id": "212c8a10",
   "metadata": {},
   "source": [
    "A correlation can be seen between restaurant average cost and rating"
   ]
  },
  {
   "cell_type": "code",
   "execution_count": null,
   "id": "552180bd",
   "metadata": {},
   "outputs": [],
   "source": [
    "plt.plot(\"average_cost_for_two\",\"aggregate_rating\", data=data, linestyle=\"none\", marker=\"o\")\n",
    "plt.xlim([0,6000])\n",
    "plt.title(\"Relationship between Average cost and Rating\")\n",
    "plt.xlabel(\"Average cost for two\")\n",
    "plt.ylabel(\"Ratings\")\n",
    "plt.show()"
   ]
  },
  {
   "cell_type": "markdown",
   "id": "b845b588",
   "metadata": {},
   "source": [
    "There is definetely a direct relation between the two. Let's take a smaller sample to draw a clearer scatter plot."
   ]
  },
  {
   "cell_type": "code",
   "execution_count": null,
   "id": "b7d2d62a",
   "metadata": {},
   "outputs": [],
   "source": [
    "plt.plot(\"average_cost_for_two\",\"aggregate_rating\", data=data.sample(1000), linestyle=\"none\", marker=\"o\")\n",
    "plt.xlim([0,3000])\n",
    "plt.show()"
   ]
  },
  {
   "cell_type": "code",
   "execution_count": null,
   "id": "2c1c6b74",
   "metadata": {},
   "outputs": [],
   "source": [
    "This relation concludes that that as average cost for two increases, there is a better chance that the restaurant will be rated highly. Let's look at price range for a better comparison."
   ]
  },
  {
   "cell_type": "markdown",
   "id": "76e5daf4",
   "metadata": {},
   "source": [
    "Relationshio between Price Range and Rating"
   ]
  },
  {
   "cell_type": "code",
   "execution_count": null,
   "id": "5fb2e480",
   "metadata": {},
   "outputs": [],
   "source": [
    "np.round(data[[\"price_range\",\"aggregate_rating\"]].corr()[\"price_range\"][1],2)"
   ]
  },
  {
   "cell_type": "code",
   "execution_count": null,
   "id": "2d55106f",
   "metadata": {},
   "outputs": [],
   "source": [
    "sns.boxplot(x='price_range', y='aggregate_rating', data=data)\n",
    "plt.ylim(1)\n",
    "plt.title(\"Relationship between Price range and Ratings\")\n",
    "plt.show()"
   ]
  },
  {
   "cell_type": "markdown",
   "id": "ef0c2241",
   "metadata": {},
   "source": [
    "Now, it is clear. The higher the price a restaurant charges, more services they provide and hence more chances of getting good ratings from their customers."
   ]
  },
  {
   "cell_type": "markdown",
   "id": "096603e7",
   "metadata": {},
   "source": [
    "\n",
    "# Conclusions"
   ]
  },
  {
   "cell_type": "raw",
   "id": "12e9b58b",
   "metadata": {},
   "source": [
    "After working on this data, we can conclude the following things:-\n",
    "\n",
    "Approx. 35% of restaurants in India are part of some chain\n",
    "Domino's Pizza, Cafe Coffee Day, KFC are the biggest fast food chains in the country with most number of outlets\n",
    "Barbecues and Grill food chains have highest average ratings than other type of restaurants\n",
    "Quick bites and casual dining type of establishment have most number of outlets\n",
    "Establishments with alcohol availability have highest average ratings, votes and photo uploads\n",
    "Banglore has most number of restaurants\n",
    "Gurgaon has highest rated restaurants (average 3.83) whereas Hyderabad has more number of critics (votes). Mumbai and New Delhi dominates for most photo uploads per outlet\n",
    "After North Indian, Chinese is the most prefered cuisine in India\n",
    "International cuisines are better rated than local cuisines\n",
    "Gastro pub, Romantic Dining and Craft Beer features are well rated by customers\n",
    "Most restaurants are rated between 3 and 4\n",
    "Majority of restaurants are budget friendly with average cost of two between Rs.250 to Rs.800\n",
    "There are less number of restaurants at higher price ranges\n",
    "As the average cost of two increases, the chance of a restaurant having higher rating increases\n",
    "Now we have come to the end of this project, I hope you learned some new tricks."
   ]
  },
  {
   "cell_type": "code",
   "execution_count": null,
   "id": "f14897db",
   "metadata": {},
   "outputs": [],
   "source": []
  },
  {
   "cell_type": "code",
   "execution_count": null,
   "id": "79f7bd89",
   "metadata": {},
   "outputs": [],
   "source": []
  }
 ],
 "metadata": {
  "kernelspec": {
   "display_name": "Python 3 (ipykernel)",
   "language": "python",
   "name": "python3"
  },
  "language_info": {
   "codemirror_mode": {
    "name": "ipython",
    "version": 3
   },
   "file_extension": ".py",
   "mimetype": "text/x-python",
   "name": "python",
   "nbconvert_exporter": "python",
   "pygments_lexer": "ipython3",
   "version": "3.9.13"
  }
 },
 "nbformat": 4,
 "nbformat_minor": 5
}
